{
 "cells": [
  {
   "cell_type": "code",
   "execution_count": 1,
   "id": "published-encounter",
   "metadata": {},
   "outputs": [],
   "source": [
    "import pandas as pd\n",
    "import matplotlib.pyplot as plt \n",
    "import seaborn as sns\n",
    "import numpy as np\n",
    "from scipy import stats\n",
    "import os\n",
    "from numpy import nan\n",
    "\n",
    "%matplotlib inline"
   ]
  },
  {
   "cell_type": "code",
   "execution_count": 2,
   "id": "academic-diameter",
   "metadata": {},
   "outputs": [],
   "source": [
    "path = '/Users/maria/OneDrive/Documentos/mlm/proyectoairbnb_train.csv'"
   ]
  },
  {
   "cell_type": "markdown",
   "id": "palestinian-modeling",
   "metadata": {},
   "source": [
    "# DATA ANALYSIS"
   ]
  },
  {
   "cell_type": "code",
   "execution_count": 3,
   "id": "boring-startup",
   "metadata": {},
   "outputs": [
    {
     "data": {
      "text/html": [
       "<div>\n",
       "<style scoped>\n",
       "    .dataframe tbody tr th:only-of-type {\n",
       "        vertical-align: middle;\n",
       "    }\n",
       "\n",
       "    .dataframe tbody tr th {\n",
       "        vertical-align: top;\n",
       "    }\n",
       "\n",
       "    .dataframe thead th {\n",
       "        text-align: right;\n",
       "    }\n",
       "</style>\n",
       "<table border=\"1\" class=\"dataframe\">\n",
       "  <thead>\n",
       "    <tr style=\"text-align: right;\">\n",
       "      <th></th>\n",
       "      <th>log_price</th>\n",
       "      <th>property_type</th>\n",
       "      <th>room_type</th>\n",
       "      <th>amenities</th>\n",
       "      <th>accommodates</th>\n",
       "      <th>bathrooms</th>\n",
       "      <th>bed_type</th>\n",
       "      <th>cancellation_policy</th>\n",
       "      <th>cleaning_fee</th>\n",
       "      <th>city</th>\n",
       "      <th>...</th>\n",
       "      <th>latitude</th>\n",
       "      <th>longitude</th>\n",
       "      <th>name</th>\n",
       "      <th>neighbourhood</th>\n",
       "      <th>number_of_reviews</th>\n",
       "      <th>review_scores_rating</th>\n",
       "      <th>thumbnail_url</th>\n",
       "      <th>zipcode</th>\n",
       "      <th>bedrooms</th>\n",
       "      <th>beds</th>\n",
       "    </tr>\n",
       "  </thead>\n",
       "  <tbody>\n",
       "    <tr>\n",
       "      <th>0</th>\n",
       "      <td>5.010635</td>\n",
       "      <td>Apartment</td>\n",
       "      <td>Entire home/apt</td>\n",
       "      <td>{\"Wireless Internet\",\"Air conditioning\",Kitche...</td>\n",
       "      <td>3</td>\n",
       "      <td>1.0</td>\n",
       "      <td>Real Bed</td>\n",
       "      <td>strict</td>\n",
       "      <td>True</td>\n",
       "      <td>NYC</td>\n",
       "      <td>...</td>\n",
       "      <td>40.696524</td>\n",
       "      <td>-73.991617</td>\n",
       "      <td>Beautiful brownstone 1-bedroom</td>\n",
       "      <td>Brooklyn Heights</td>\n",
       "      <td>2</td>\n",
       "      <td>100.0</td>\n",
       "      <td>https://a0.muscache.com/im/pictures/6d7cbbf7-c...</td>\n",
       "      <td>11201</td>\n",
       "      <td>1.0</td>\n",
       "      <td>1.0</td>\n",
       "    </tr>\n",
       "    <tr>\n",
       "      <th>1</th>\n",
       "      <td>5.129899</td>\n",
       "      <td>Apartment</td>\n",
       "      <td>Entire home/apt</td>\n",
       "      <td>{\"Wireless Internet\",\"Air conditioning\",Kitche...</td>\n",
       "      <td>7</td>\n",
       "      <td>1.0</td>\n",
       "      <td>Real Bed</td>\n",
       "      <td>strict</td>\n",
       "      <td>True</td>\n",
       "      <td>NYC</td>\n",
       "      <td>...</td>\n",
       "      <td>40.766115</td>\n",
       "      <td>-73.989040</td>\n",
       "      <td>Superb 3BR Apt Located Near Times Square</td>\n",
       "      <td>Hell's Kitchen</td>\n",
       "      <td>6</td>\n",
       "      <td>93.0</td>\n",
       "      <td>https://a0.muscache.com/im/pictures/348a55fe-4...</td>\n",
       "      <td>10019</td>\n",
       "      <td>3.0</td>\n",
       "      <td>3.0</td>\n",
       "    </tr>\n",
       "    <tr>\n",
       "      <th>2</th>\n",
       "      <td>4.976734</td>\n",
       "      <td>Apartment</td>\n",
       "      <td>Entire home/apt</td>\n",
       "      <td>{TV,\"Cable TV\",\"Wireless Internet\",\"Air condit...</td>\n",
       "      <td>5</td>\n",
       "      <td>1.0</td>\n",
       "      <td>Real Bed</td>\n",
       "      <td>moderate</td>\n",
       "      <td>True</td>\n",
       "      <td>NYC</td>\n",
       "      <td>...</td>\n",
       "      <td>40.808110</td>\n",
       "      <td>-73.943756</td>\n",
       "      <td>The Garden Oasis</td>\n",
       "      <td>Harlem</td>\n",
       "      <td>10</td>\n",
       "      <td>92.0</td>\n",
       "      <td>https://a0.muscache.com/im/pictures/6fae5362-9...</td>\n",
       "      <td>10027</td>\n",
       "      <td>1.0</td>\n",
       "      <td>3.0</td>\n",
       "    </tr>\n",
       "  </tbody>\n",
       "</table>\n",
       "<p>3 rows × 28 columns</p>\n",
       "</div>"
      ],
      "text/plain": [
       "   log_price property_type        room_type  \\\n",
       "0   5.010635     Apartment  Entire home/apt   \n",
       "1   5.129899     Apartment  Entire home/apt   \n",
       "2   4.976734     Apartment  Entire home/apt   \n",
       "\n",
       "                                           amenities  accommodates  bathrooms  \\\n",
       "0  {\"Wireless Internet\",\"Air conditioning\",Kitche...             3        1.0   \n",
       "1  {\"Wireless Internet\",\"Air conditioning\",Kitche...             7        1.0   \n",
       "2  {TV,\"Cable TV\",\"Wireless Internet\",\"Air condit...             5        1.0   \n",
       "\n",
       "   bed_type cancellation_policy  cleaning_fee city  ...   latitude  longitude  \\\n",
       "0  Real Bed              strict          True  NYC  ...  40.696524 -73.991617   \n",
       "1  Real Bed              strict          True  NYC  ...  40.766115 -73.989040   \n",
       "2  Real Bed            moderate          True  NYC  ...  40.808110 -73.943756   \n",
       "\n",
       "                                       name     neighbourhood  \\\n",
       "0            Beautiful brownstone 1-bedroom  Brooklyn Heights   \n",
       "1  Superb 3BR Apt Located Near Times Square    Hell's Kitchen   \n",
       "2                          The Garden Oasis            Harlem   \n",
       "\n",
       "  number_of_reviews review_scores_rating  \\\n",
       "0                 2                100.0   \n",
       "1                 6                 93.0   \n",
       "2                10                 92.0   \n",
       "\n",
       "                                       thumbnail_url zipcode  bedrooms  beds  \n",
       "0  https://a0.muscache.com/im/pictures/6d7cbbf7-c...   11201       1.0   1.0  \n",
       "1  https://a0.muscache.com/im/pictures/348a55fe-4...   10019       3.0   3.0  \n",
       "2  https://a0.muscache.com/im/pictures/6fae5362-9...   10027       1.0   3.0  \n",
       "\n",
       "[3 rows x 28 columns]"
      ]
     },
     "execution_count": 3,
     "metadata": {},
     "output_type": "execute_result"
    }
   ],
   "source": [
    "#the dataset was uploaded removing the first column of ID that was unnecesary for the analysis\n",
    "def load_data(filename):\n",
    "    '''''subir datos '''''\n",
    "    df = pd.read_csv(path)\n",
    "    df.drop(df.columns[0], axis=1, inplace=True)\n",
    "    \n",
    "    return df\n",
    "\n",
    "df = load_data(path)\n",
    "df.head(3)"
   ]
  },
  {
   "cell_type": "code",
   "execution_count": 4,
   "id": "addressed-tuition",
   "metadata": {},
   "outputs": [
    {
     "data": {
      "text/plain": [
       "(74111, 28)"
      ]
     },
     "execution_count": 4,
     "metadata": {},
     "output_type": "execute_result"
    }
   ],
   "source": [
    "#The general size\n",
    "df.shape"
   ]
  },
  {
   "cell_type": "code",
   "execution_count": 5,
   "id": "piano-narrative",
   "metadata": {},
   "outputs": [
    {
     "data": {
      "text/html": [
       "<div>\n",
       "<style scoped>\n",
       "    .dataframe tbody tr th:only-of-type {\n",
       "        vertical-align: middle;\n",
       "    }\n",
       "\n",
       "    .dataframe tbody tr th {\n",
       "        vertical-align: top;\n",
       "    }\n",
       "\n",
       "    .dataframe thead th {\n",
       "        text-align: right;\n",
       "    }\n",
       "</style>\n",
       "<table border=\"1\" class=\"dataframe\">\n",
       "  <thead>\n",
       "    <tr style=\"text-align: right;\">\n",
       "      <th></th>\n",
       "      <th>log_price</th>\n",
       "      <th>accommodates</th>\n",
       "      <th>bathrooms</th>\n",
       "      <th>latitude</th>\n",
       "      <th>longitude</th>\n",
       "      <th>number_of_reviews</th>\n",
       "      <th>review_scores_rating</th>\n",
       "      <th>bedrooms</th>\n",
       "      <th>beds</th>\n",
       "    </tr>\n",
       "  </thead>\n",
       "  <tbody>\n",
       "    <tr>\n",
       "      <th>count</th>\n",
       "      <td>74111.000000</td>\n",
       "      <td>74111.000000</td>\n",
       "      <td>73911.000000</td>\n",
       "      <td>74111.000000</td>\n",
       "      <td>74111.000000</td>\n",
       "      <td>74111.000000</td>\n",
       "      <td>57389.000000</td>\n",
       "      <td>74020.000000</td>\n",
       "      <td>73980.000000</td>\n",
       "    </tr>\n",
       "    <tr>\n",
       "      <th>mean</th>\n",
       "      <td>4.782069</td>\n",
       "      <td>3.155146</td>\n",
       "      <td>1.235263</td>\n",
       "      <td>38.445958</td>\n",
       "      <td>-92.397525</td>\n",
       "      <td>20.900568</td>\n",
       "      <td>94.067365</td>\n",
       "      <td>1.265793</td>\n",
       "      <td>1.710868</td>\n",
       "    </tr>\n",
       "    <tr>\n",
       "      <th>std</th>\n",
       "      <td>0.717394</td>\n",
       "      <td>2.153589</td>\n",
       "      <td>0.582044</td>\n",
       "      <td>3.080167</td>\n",
       "      <td>21.705322</td>\n",
       "      <td>37.828641</td>\n",
       "      <td>7.836556</td>\n",
       "      <td>0.852143</td>\n",
       "      <td>1.254142</td>\n",
       "    </tr>\n",
       "    <tr>\n",
       "      <th>min</th>\n",
       "      <td>0.000000</td>\n",
       "      <td>1.000000</td>\n",
       "      <td>0.000000</td>\n",
       "      <td>33.338905</td>\n",
       "      <td>-122.511500</td>\n",
       "      <td>0.000000</td>\n",
       "      <td>20.000000</td>\n",
       "      <td>0.000000</td>\n",
       "      <td>0.000000</td>\n",
       "    </tr>\n",
       "    <tr>\n",
       "      <th>25%</th>\n",
       "      <td>4.317488</td>\n",
       "      <td>2.000000</td>\n",
       "      <td>1.000000</td>\n",
       "      <td>34.127908</td>\n",
       "      <td>-118.342374</td>\n",
       "      <td>1.000000</td>\n",
       "      <td>92.000000</td>\n",
       "      <td>1.000000</td>\n",
       "      <td>1.000000</td>\n",
       "    </tr>\n",
       "    <tr>\n",
       "      <th>50%</th>\n",
       "      <td>4.709530</td>\n",
       "      <td>2.000000</td>\n",
       "      <td>1.000000</td>\n",
       "      <td>40.662138</td>\n",
       "      <td>-76.996965</td>\n",
       "      <td>6.000000</td>\n",
       "      <td>96.000000</td>\n",
       "      <td>1.000000</td>\n",
       "      <td>1.000000</td>\n",
       "    </tr>\n",
       "    <tr>\n",
       "      <th>75%</th>\n",
       "      <td>5.220356</td>\n",
       "      <td>4.000000</td>\n",
       "      <td>1.000000</td>\n",
       "      <td>40.746096</td>\n",
       "      <td>-73.954660</td>\n",
       "      <td>23.000000</td>\n",
       "      <td>100.000000</td>\n",
       "      <td>1.000000</td>\n",
       "      <td>2.000000</td>\n",
       "    </tr>\n",
       "    <tr>\n",
       "      <th>max</th>\n",
       "      <td>7.600402</td>\n",
       "      <td>16.000000</td>\n",
       "      <td>8.000000</td>\n",
       "      <td>42.390437</td>\n",
       "      <td>-70.985047</td>\n",
       "      <td>605.000000</td>\n",
       "      <td>100.000000</td>\n",
       "      <td>10.000000</td>\n",
       "      <td>18.000000</td>\n",
       "    </tr>\n",
       "  </tbody>\n",
       "</table>\n",
       "</div>"
      ],
      "text/plain": [
       "          log_price  accommodates     bathrooms      latitude     longitude  \\\n",
       "count  74111.000000  74111.000000  73911.000000  74111.000000  74111.000000   \n",
       "mean       4.782069      3.155146      1.235263     38.445958    -92.397525   \n",
       "std        0.717394      2.153589      0.582044      3.080167     21.705322   \n",
       "min        0.000000      1.000000      0.000000     33.338905   -122.511500   \n",
       "25%        4.317488      2.000000      1.000000     34.127908   -118.342374   \n",
       "50%        4.709530      2.000000      1.000000     40.662138    -76.996965   \n",
       "75%        5.220356      4.000000      1.000000     40.746096    -73.954660   \n",
       "max        7.600402     16.000000      8.000000     42.390437    -70.985047   \n",
       "\n",
       "       number_of_reviews  review_scores_rating      bedrooms          beds  \n",
       "count       74111.000000          57389.000000  74020.000000  73980.000000  \n",
       "mean           20.900568             94.067365      1.265793      1.710868  \n",
       "std            37.828641              7.836556      0.852143      1.254142  \n",
       "min             0.000000             20.000000      0.000000      0.000000  \n",
       "25%             1.000000             92.000000      1.000000      1.000000  \n",
       "50%             6.000000             96.000000      1.000000      1.000000  \n",
       "75%            23.000000            100.000000      1.000000      2.000000  \n",
       "max           605.000000            100.000000     10.000000     18.000000  "
      ]
     },
     "execution_count": 5,
     "metadata": {},
     "output_type": "execute_result"
    }
   ],
   "source": [
    "#General behaviour of the dataset\n",
    "df.describe()"
   ]
  },
  {
   "cell_type": "markdown",
   "id": "behind-conservative",
   "metadata": {},
   "source": [
    "### Correlation and Distribution\n",
    "It was analyzed the correlation between the numeric variables and the distribution of the data"
   ]
  },
  {
   "cell_type": "code",
   "execution_count": 6,
   "id": "czech-petroleum",
   "metadata": {},
   "outputs": [
    {
     "data": {
      "text/html": [
       "<div>\n",
       "<style scoped>\n",
       "    .dataframe tbody tr th:only-of-type {\n",
       "        vertical-align: middle;\n",
       "    }\n",
       "\n",
       "    .dataframe tbody tr th {\n",
       "        vertical-align: top;\n",
       "    }\n",
       "\n",
       "    .dataframe thead th {\n",
       "        text-align: right;\n",
       "    }\n",
       "</style>\n",
       "<table border=\"1\" class=\"dataframe\">\n",
       "  <thead>\n",
       "    <tr style=\"text-align: right;\">\n",
       "      <th></th>\n",
       "      <th>log_price</th>\n",
       "      <th>accommodates</th>\n",
       "      <th>bathrooms</th>\n",
       "      <th>cleaning_fee</th>\n",
       "      <th>latitude</th>\n",
       "      <th>longitude</th>\n",
       "      <th>number_of_reviews</th>\n",
       "      <th>review_scores_rating</th>\n",
       "      <th>bedrooms</th>\n",
       "      <th>beds</th>\n",
       "    </tr>\n",
       "  </thead>\n",
       "  <tbody>\n",
       "    <tr>\n",
       "      <th>log_price</th>\n",
       "      <td>1.000000</td>\n",
       "      <td>0.567574</td>\n",
       "      <td>0.355420</td>\n",
       "      <td>0.111191</td>\n",
       "      <td>-0.002193</td>\n",
       "      <td>-0.047529</td>\n",
       "      <td>-0.032470</td>\n",
       "      <td>0.091219</td>\n",
       "      <td>0.473212</td>\n",
       "      <td>0.442153</td>\n",
       "    </tr>\n",
       "    <tr>\n",
       "      <th>accommodates</th>\n",
       "      <td>0.567574</td>\n",
       "      <td>1.000000</td>\n",
       "      <td>0.505632</td>\n",
       "      <td>0.182306</td>\n",
       "      <td>-0.078309</td>\n",
       "      <td>-0.085160</td>\n",
       "      <td>0.041964</td>\n",
       "      <td>-0.017128</td>\n",
       "      <td>0.709258</td>\n",
       "      <td>0.810801</td>\n",
       "    </tr>\n",
       "    <tr>\n",
       "      <th>bathrooms</th>\n",
       "      <td>0.355420</td>\n",
       "      <td>0.505632</td>\n",
       "      <td>1.000000</td>\n",
       "      <td>0.053784</td>\n",
       "      <td>-0.137959</td>\n",
       "      <td>-0.135026</td>\n",
       "      <td>-0.041381</td>\n",
       "      <td>0.010537</td>\n",
       "      <td>0.589935</td>\n",
       "      <td>0.525591</td>\n",
       "    </tr>\n",
       "    <tr>\n",
       "      <th>cleaning_fee</th>\n",
       "      <td>0.111191</td>\n",
       "      <td>0.182306</td>\n",
       "      <td>0.053784</td>\n",
       "      <td>1.000000</td>\n",
       "      <td>-0.060913</td>\n",
       "      <td>-0.068505</td>\n",
       "      <td>0.110204</td>\n",
       "      <td>0.034879</td>\n",
       "      <td>0.105454</td>\n",
       "      <td>0.131632</td>\n",
       "    </tr>\n",
       "    <tr>\n",
       "      <th>latitude</th>\n",
       "      <td>-0.002193</td>\n",
       "      <td>-0.078309</td>\n",
       "      <td>-0.137959</td>\n",
       "      <td>-0.060913</td>\n",
       "      <td>1.000000</td>\n",
       "      <td>0.896065</td>\n",
       "      <td>-0.017642</td>\n",
       "      <td>-0.032858</td>\n",
       "      <td>-0.059162</td>\n",
       "      <td>-0.080294</td>\n",
       "    </tr>\n",
       "    <tr>\n",
       "      <th>longitude</th>\n",
       "      <td>-0.047529</td>\n",
       "      <td>-0.085160</td>\n",
       "      <td>-0.135026</td>\n",
       "      <td>-0.068505</td>\n",
       "      <td>0.896065</td>\n",
       "      <td>1.000000</td>\n",
       "      <td>-0.050009</td>\n",
       "      <td>-0.048801</td>\n",
       "      <td>-0.076113</td>\n",
       "      <td>-0.082150</td>\n",
       "    </tr>\n",
       "    <tr>\n",
       "      <th>number_of_reviews</th>\n",
       "      <td>-0.032470</td>\n",
       "      <td>0.041964</td>\n",
       "      <td>-0.041381</td>\n",
       "      <td>0.110204</td>\n",
       "      <td>-0.017642</td>\n",
       "      <td>-0.050009</td>\n",
       "      <td>1.000000</td>\n",
       "      <td>0.011708</td>\n",
       "      <td>-0.035149</td>\n",
       "      <td>0.031109</td>\n",
       "    </tr>\n",
       "    <tr>\n",
       "      <th>review_scores_rating</th>\n",
       "      <td>0.091219</td>\n",
       "      <td>-0.017128</td>\n",
       "      <td>0.010537</td>\n",
       "      <td>0.034879</td>\n",
       "      <td>-0.032858</td>\n",
       "      <td>-0.048801</td>\n",
       "      <td>0.011708</td>\n",
       "      <td>1.000000</td>\n",
       "      <td>0.011143</td>\n",
       "      <td>-0.027330</td>\n",
       "    </tr>\n",
       "    <tr>\n",
       "      <th>bedrooms</th>\n",
       "      <td>0.473212</td>\n",
       "      <td>0.709258</td>\n",
       "      <td>0.589935</td>\n",
       "      <td>0.105454</td>\n",
       "      <td>-0.059162</td>\n",
       "      <td>-0.076113</td>\n",
       "      <td>-0.035149</td>\n",
       "      <td>0.011143</td>\n",
       "      <td>1.000000</td>\n",
       "      <td>0.709416</td>\n",
       "    </tr>\n",
       "    <tr>\n",
       "      <th>beds</th>\n",
       "      <td>0.442153</td>\n",
       "      <td>0.810801</td>\n",
       "      <td>0.525591</td>\n",
       "      <td>0.131632</td>\n",
       "      <td>-0.080294</td>\n",
       "      <td>-0.082150</td>\n",
       "      <td>0.031109</td>\n",
       "      <td>-0.027330</td>\n",
       "      <td>0.709416</td>\n",
       "      <td>1.000000</td>\n",
       "    </tr>\n",
       "  </tbody>\n",
       "</table>\n",
       "</div>"
      ],
      "text/plain": [
       "                      log_price  accommodates  bathrooms  cleaning_fee  \\\n",
       "log_price              1.000000      0.567574   0.355420      0.111191   \n",
       "accommodates           0.567574      1.000000   0.505632      0.182306   \n",
       "bathrooms              0.355420      0.505632   1.000000      0.053784   \n",
       "cleaning_fee           0.111191      0.182306   0.053784      1.000000   \n",
       "latitude              -0.002193     -0.078309  -0.137959     -0.060913   \n",
       "longitude             -0.047529     -0.085160  -0.135026     -0.068505   \n",
       "number_of_reviews     -0.032470      0.041964  -0.041381      0.110204   \n",
       "review_scores_rating   0.091219     -0.017128   0.010537      0.034879   \n",
       "bedrooms               0.473212      0.709258   0.589935      0.105454   \n",
       "beds                   0.442153      0.810801   0.525591      0.131632   \n",
       "\n",
       "                      latitude  longitude  number_of_reviews  \\\n",
       "log_price            -0.002193  -0.047529          -0.032470   \n",
       "accommodates         -0.078309  -0.085160           0.041964   \n",
       "bathrooms            -0.137959  -0.135026          -0.041381   \n",
       "cleaning_fee         -0.060913  -0.068505           0.110204   \n",
       "latitude              1.000000   0.896065          -0.017642   \n",
       "longitude             0.896065   1.000000          -0.050009   \n",
       "number_of_reviews    -0.017642  -0.050009           1.000000   \n",
       "review_scores_rating -0.032858  -0.048801           0.011708   \n",
       "bedrooms             -0.059162  -0.076113          -0.035149   \n",
       "beds                 -0.080294  -0.082150           0.031109   \n",
       "\n",
       "                      review_scores_rating  bedrooms      beds  \n",
       "log_price                         0.091219  0.473212  0.442153  \n",
       "accommodates                     -0.017128  0.709258  0.810801  \n",
       "bathrooms                         0.010537  0.589935  0.525591  \n",
       "cleaning_fee                      0.034879  0.105454  0.131632  \n",
       "latitude                         -0.032858 -0.059162 -0.080294  \n",
       "longitude                        -0.048801 -0.076113 -0.082150  \n",
       "number_of_reviews                 0.011708 -0.035149  0.031109  \n",
       "review_scores_rating              1.000000  0.011143 -0.027330  \n",
       "bedrooms                          0.011143  1.000000  0.709416  \n",
       "beds                             -0.027330  0.709416  1.000000  "
      ]
     },
     "execution_count": 6,
     "metadata": {},
     "output_type": "execute_result"
    }
   ],
   "source": [
    "#correlation between variables\n",
    "df.corr()"
   ]
  },
  {
   "cell_type": "code",
   "execution_count": 7,
   "id": "exposed-costs",
   "metadata": {},
   "outputs": [
    {
     "data": {
      "text/plain": [
       "array([[<AxesSubplot:title={'center':'log_price'}>,\n",
       "        <AxesSubplot:title={'center':'accommodates'}>,\n",
       "        <AxesSubplot:title={'center':'bathrooms'}>],\n",
       "       [<AxesSubplot:title={'center':'latitude'}>,\n",
       "        <AxesSubplot:title={'center':'longitude'}>,\n",
       "        <AxesSubplot:title={'center':'number_of_reviews'}>],\n",
       "       [<AxesSubplot:title={'center':'review_scores_rating'}>,\n",
       "        <AxesSubplot:title={'center':'bedrooms'}>,\n",
       "        <AxesSubplot:title={'center':'beds'}>]], dtype=object)"
      ]
     },
     "execution_count": 7,
     "metadata": {},
     "output_type": "execute_result"
    },
    {
     "data": {
      "image/png": "[encoded data removed]",
      "text/plain": [
       "<Figure size 1080x1080 with 9 Axes>"
      ]
     },
     "metadata": {
      "needs_background": "light"
     },
     "output_type": "display_data"
    }
   ],
   "source": [
    "#Data behaviour for each variable\n",
    "df.hist(figsize=(15,15),bins=25)"
   ]
  },
  {
   "cell_type": "code",
   "execution_count": 8,
   "id": "given-tribe",
   "metadata": {},
   "outputs": [
    {
     "name": "stderr",
     "output_type": "stream",
     "text": [
      "c:\\users\\maria\\desktop\\mlm_2021\\lib\\site-packages\\seaborn\\distributions.py:2557: FutureWarning: `distplot` is a deprecated function and will be removed in a future version. Please adapt your code to use either `displot` (a figure-level function with similar flexibility) or `histplot` (an axes-level function for histograms).\n",
      "  warnings.warn(msg, FutureWarning)\n"
     ]
    },
    {
     "data": {
      "image/png": "[encoded data removed]",
      "text/plain": [
       "<Figure size 432x288 with 1 Axes>"
      ]
     },
     "metadata": {
      "needs_background": "light"
     },
     "output_type": "display_data"
    }
   ],
   "source": [
    "#Objective variable (review_scores_rating) distribution evaluation\n",
    "normalidad = sns.distplot(df['review_scores_rating'])"
   ]
  },
  {
   "cell_type": "code",
   "execution_count": 9,
   "id": "approximate-cemetery",
   "metadata": {},
   "outputs": [
    {
     "data": {
      "image/png": "[encoded data removed]",
      "text/plain": [
       "<Figure size 432x288 with 1 Axes>"
      ]
     },
     "metadata": {
      "needs_background": "light"
     },
     "output_type": "display_data"
    }
   ],
   "source": [
    "#Probability plot for review_scores_rating\n",
    "_ = stats.probplot(df['review_scores_rating'], plot=sns.mpl.pyplot)"
   ]
  },
  {
   "cell_type": "markdown",
   "id": "choice-there",
   "metadata": {},
   "source": [
    "## MISSING DATA\n",
    "There were lots of nas, therefore it was evaluated that an imputation would affect the outcome mainly for review_scores_rating so the risks of using deletion were taken. The other variables used imputation"
   ]
  },
  {
   "cell_type": "code",
   "execution_count": 10,
   "id": "sporting-floor",
   "metadata": {},
   "outputs": [
    {
     "data": {
      "text/plain": [
       "log_price                     0\n",
       "property_type                 0\n",
       "room_type                     0\n",
       "amenities                     0\n",
       "accommodates                  0\n",
       "bathrooms                   200\n",
       "bed_type                      0\n",
       "cancellation_policy           0\n",
       "cleaning_fee                  0\n",
       "city                          0\n",
       "description                   0\n",
       "first_review              15864\n",
       "host_has_profile_pic        188\n",
       "host_identity_verified      188\n",
       "host_response_rate        18299\n",
       "host_since                  188\n",
       "instant_bookable              0\n",
       "last_review               15827\n",
       "latitude                      0\n",
       "longitude                     0\n",
       "name                          0\n",
       "neighbourhood              6872\n",
       "number_of_reviews             0\n",
       "review_scores_rating      16722\n",
       "thumbnail_url              8216\n",
       "zipcode                     966\n",
       "bedrooms                     91\n",
       "beds                        131\n",
       "dtype: int64"
      ]
     },
     "execution_count": 10,
     "metadata": {},
     "output_type": "execute_result"
    }
   ],
   "source": [
    "#na evaluation for each variable\n",
    "df.isna().sum()"
   ]
  },
  {
   "cell_type": "code",
   "execution_count": 11,
   "id": "unknown-classification",
   "metadata": {},
   "outputs": [
    {
     "data": {
      "text/plain": [
       "log_price                 float64\n",
       "property_type              object\n",
       "room_type                  object\n",
       "amenities                  object\n",
       "accommodates                int64\n",
       "bathrooms                 float64\n",
       "bed_type                   object\n",
       "cancellation_policy        object\n",
       "cleaning_fee                 bool\n",
       "city                       object\n",
       "description                object\n",
       "first_review               object\n",
       "host_has_profile_pic       object\n",
       "host_identity_verified     object\n",
       "host_response_rate         object\n",
       "host_since                 object\n",
       "instant_bookable           object\n",
       "last_review                object\n",
       "latitude                  float64\n",
       "longitude                 float64\n",
       "name                       object\n",
       "neighbourhood              object\n",
       "number_of_reviews           int64\n",
       "review_scores_rating      float64\n",
       "thumbnail_url              object\n",
       "zipcode                    object\n",
       "bedrooms                  float64\n",
       "beds                      float64\n",
       "dtype: object"
      ]
     },
     "execution_count": 11,
     "metadata": {},
     "output_type": "execute_result"
    }
   ],
   "source": [
    "#types of data of each variable\n",
    "df.dtypes"
   ]
  },
  {
   "cell_type": "code",
   "execution_count": 12,
   "id": "ecological-organizer",
   "metadata": {},
   "outputs": [
    {
     "name": "stdout",
     "output_type": "stream",
     "text": [
      "96.0\n"
     ]
    },
    {
     "data": {
      "text/plain": [
       "4081"
      ]
     },
     "execution_count": 12,
     "metadata": {},
     "output_type": "execute_result"
    }
   ],
   "source": [
    "#Evaluation of missing values for review_scores_rating that ended in deciding to use deletion\n",
    "print(df['review_scores_rating'].median())\n",
    "df['review_scores_rating'].loc[df['review_scores_rating'] == 96.0].count()"
   ]
  },
  {
   "cell_type": "code",
   "execution_count": 13,
   "id": "ideal-binding",
   "metadata": {},
   "outputs": [
    {
     "data": {
      "text/plain": [
       "(57389, 28)"
      ]
     },
     "execution_count": 13,
     "metadata": {},
     "output_type": "execute_result"
    }
   ],
   "source": [
    "#Deletion of nas for review_scores_rating\n",
    "df2 = df.copy() \n",
    "\n",
    "df2.dropna(subset=['review_scores_rating'],inplace=True)\n",
    "df2.shape"
   ]
  },
  {
   "cell_type": "code",
   "execution_count": 14,
   "id": "champion-facial",
   "metadata": {},
   "outputs": [
    {
     "data": {
      "text/plain": [
       "(57389, 10)"
      ]
     },
     "execution_count": 14,
     "metadata": {},
     "output_type": "execute_result"
    }
   ],
   "source": [
    "#separation of numeric variables to imputate missing values\n",
    "missing = df2.select_dtypes(exclude=['object'])\n",
    "missing.shape"
   ]
  },
  {
   "cell_type": "code",
   "execution_count": 15,
   "id": "respected-peoples",
   "metadata": {},
   "outputs": [
    {
     "data": {
      "text/plain": [
       "log_price               0\n",
       "accommodates            0\n",
       "bathrooms               0\n",
       "cleaning_fee            0\n",
       "latitude                0\n",
       "longitude               0\n",
       "number_of_reviews       0\n",
       "review_scores_rating    0\n",
       "bedrooms                0\n",
       "beds                    0\n",
       "dtype: int64"
      ]
     },
     "execution_count": 15,
     "metadata": {},
     "output_type": "execute_result"
    }
   ],
   "source": [
    "#imputation process for missing data\n",
    "from sklearn.impute import SimpleImputer\n",
    "imputer = SimpleImputer(strategy=\"median\")\n",
    "imputer.fit(missing)\n",
    "\n",
    "P = imputer.transform(missing)\n",
    "\n",
    "df2 = pd.DataFrame(P, columns=missing.columns,index=missing.index)\n",
    "df2.isna().sum()"
   ]
  },
  {
   "cell_type": "markdown",
   "id": "pregnant-evening",
   "metadata": {},
   "source": [
    "## CATEGORIES\n",
    "Categories were stablished based on quantiles, to make sure every category had the same size to be categorized later on. It was fixed on 3 categories because of the concentration of data in the score of 100"
   ]
  },
  {
   "cell_type": "code",
   "execution_count": 16,
   "id": "tamil-porcelain",
   "metadata": {},
   "outputs": [
    {
     "data": {
      "text/plain": [
       "100.0    16215\n",
       "98.0      4374\n",
       "97.0      4087\n",
       "96.0      4081\n",
       "95.0      3713\n",
       "93.0      3647\n",
       "90.0      2852\n",
       "99.0      2631\n",
       "94.0      2618\n",
       "80.0      2163\n",
       "92.0      2064\n",
       "91.0      1615\n",
       "89.0      1120\n",
       "87.0      1119\n",
       "88.0      1056\n",
       "85.0       625\n",
       "86.0       512\n",
       "60.0       444\n",
       "84.0       438\n",
       "83.0       403\n",
       "82.0       211\n",
       "70.0       196\n",
       "73.0       157\n",
       "81.0       126\n",
       "75.0       101\n",
       "20.0        97\n",
       "78.0        94\n",
       "40.0        90\n",
       "79.0        83\n",
       "76.0        76\n",
       "77.0        74\n",
       "67.0        66\n",
       "74.0        39\n",
       "72.0        38\n",
       "50.0        30\n",
       "65.0        28\n",
       "68.0        20\n",
       "71.0        14\n",
       "69.0        13\n",
       "63.0        11\n",
       "53.0        10\n",
       "64.0        10\n",
       "47.0         5\n",
       "30.0         4\n",
       "57.0         3\n",
       "55.0         3\n",
       "66.0         3\n",
       "62.0         3\n",
       "27.0         2\n",
       "35.0         1\n",
       "54.0         1\n",
       "49.0         1\n",
       "56.0         1\n",
       "58.0         1\n",
       "Name: review_scores_rating, dtype: int64"
      ]
     },
     "execution_count": 16,
     "metadata": {},
     "output_type": "execute_result"
    }
   ],
   "source": [
    "#Total of instances with each number to develop main categories\n",
    "df2['review_scores_rating'].value_counts()"
   ]
  },
  {
   "cell_type": "code",
   "execution_count": 17,
   "id": "latin-delivery",
   "metadata": {},
   "outputs": [
    {
     "data": {
      "text/plain": [
       "0.00     20.0\n",
       "0.33     93.0\n",
       "0.66     98.0\n",
       "1.00    100.0\n",
       "Name: review_scores_rating, dtype: float64"
      ]
     },
     "execution_count": 17,
     "metadata": {},
     "output_type": "execute_result"
    }
   ],
   "source": [
    "#split of categories\n",
    "quantile_list = [0, .33, .66, 1.]\n",
    "categorias = df2['review_scores_rating'].quantile(quantile_list)\n",
    "categorias"
   ]
  },
  {
   "cell_type": "code",
   "execution_count": 18,
   "id": "norman-wells",
   "metadata": {},
   "outputs": [
    {
     "data": {
      "text/plain": [
       "Text(0, 0.5, 'Freq')"
      ]
     },
     "execution_count": 18,
     "metadata": {},
     "output_type": "execute_result"
    },
    {
     "data": {
      "image/png": "[encoded data removed]",
      "text/plain": [
       "<Figure size 432x288 with 1 Axes>"
      ]
     },
     "metadata": {
      "needs_background": "light"
     },
     "output_type": "display_data"
    }
   ],
   "source": [
    "#diagram of distribution, scores and the location of the cateegories divisions\n",
    "fig, ax = plt.subplots()\n",
    "df2['review_scores_rating'].hist(bins=30, color='#A9C5D3', \n",
    "                             edgecolor='black', grid=False)\n",
    "for quantile in categorias:\n",
    "    qvl = plt.axvline(quantile, color='r')\n",
    "ax.legend([qvl], ['Quantiles'], fontsize=10)\n",
    "ax.set_title('Data divided by Quantiles', \n",
    "             fontsize=12)\n",
    "ax.set_xlabel('review_scores_rating', fontsize=12)\n",
    "ax.set_ylabel('Freq', fontsize=12)"
   ]
  },
  {
   "cell_type": "code",
   "execution_count": 19,
   "id": "bibliographic-inquiry",
   "metadata": {},
   "outputs": [
    {
     "data": {
      "text/html": [
       "<div>\n",
       "<style scoped>\n",
       "    .dataframe tbody tr th:only-of-type {\n",
       "        vertical-align: middle;\n",
       "    }\n",
       "\n",
       "    .dataframe tbody tr th {\n",
       "        vertical-align: top;\n",
       "    }\n",
       "\n",
       "    .dataframe thead th {\n",
       "        text-align: right;\n",
       "    }\n",
       "</style>\n",
       "<table border=\"1\" class=\"dataframe\">\n",
       "  <thead>\n",
       "    <tr style=\"text-align: right;\">\n",
       "      <th></th>\n",
       "      <th>log_price</th>\n",
       "      <th>accommodates</th>\n",
       "      <th>bathrooms</th>\n",
       "      <th>cleaning_fee</th>\n",
       "      <th>latitude</th>\n",
       "      <th>longitude</th>\n",
       "      <th>number_of_reviews</th>\n",
       "      <th>review_scores_rating</th>\n",
       "      <th>bedrooms</th>\n",
       "      <th>beds</th>\n",
       "      <th>range</th>\n",
       "    </tr>\n",
       "  </thead>\n",
       "  <tbody>\n",
       "    <tr>\n",
       "      <th>5</th>\n",
       "      <td>4.442651</td>\n",
       "      <td>2.0</td>\n",
       "      <td>1.0</td>\n",
       "      <td>1.0</td>\n",
       "      <td>37.753164</td>\n",
       "      <td>-122.429526</td>\n",
       "      <td>3.0</td>\n",
       "      <td>100.0</td>\n",
       "      <td>1.0</td>\n",
       "      <td>1.0</td>\n",
       "      <td>2</td>\n",
       "    </tr>\n",
       "    <tr>\n",
       "      <th>6</th>\n",
       "      <td>4.418841</td>\n",
       "      <td>3.0</td>\n",
       "      <td>1.0</td>\n",
       "      <td>1.0</td>\n",
       "      <td>33.980454</td>\n",
       "      <td>-118.462821</td>\n",
       "      <td>15.0</td>\n",
       "      <td>97.0</td>\n",
       "      <td>1.0</td>\n",
       "      <td>1.0</td>\n",
       "      <td>1</td>\n",
       "    </tr>\n",
       "    <tr>\n",
       "      <th>7</th>\n",
       "      <td>4.787492</td>\n",
       "      <td>2.0</td>\n",
       "      <td>1.0</td>\n",
       "      <td>1.0</td>\n",
       "      <td>34.046737</td>\n",
       "      <td>-118.260439</td>\n",
       "      <td>9.0</td>\n",
       "      <td>93.0</td>\n",
       "      <td>1.0</td>\n",
       "      <td>1.0</td>\n",
       "      <td>0</td>\n",
       "    </tr>\n",
       "    <tr>\n",
       "      <th>8</th>\n",
       "      <td>4.787492</td>\n",
       "      <td>2.0</td>\n",
       "      <td>1.0</td>\n",
       "      <td>1.0</td>\n",
       "      <td>37.781128</td>\n",
       "      <td>-122.501095</td>\n",
       "      <td>159.0</td>\n",
       "      <td>99.0</td>\n",
       "      <td>1.0</td>\n",
       "      <td>1.0</td>\n",
       "      <td>2</td>\n",
       "    </tr>\n",
       "    <tr>\n",
       "      <th>9</th>\n",
       "      <td>3.583519</td>\n",
       "      <td>2.0</td>\n",
       "      <td>1.0</td>\n",
       "      <td>1.0</td>\n",
       "      <td>33.992563</td>\n",
       "      <td>-117.895997</td>\n",
       "      <td>2.0</td>\n",
       "      <td>90.0</td>\n",
       "      <td>1.0</td>\n",
       "      <td>1.0</td>\n",
       "      <td>0</td>\n",
       "    </tr>\n",
       "    <tr>\n",
       "      <th>10</th>\n",
       "      <td>4.605170</td>\n",
       "      <td>2.0</td>\n",
       "      <td>1.0</td>\n",
       "      <td>1.0</td>\n",
       "      <td>40.723883</td>\n",
       "      <td>-73.983880</td>\n",
       "      <td>82.0</td>\n",
       "      <td>93.0</td>\n",
       "      <td>1.0</td>\n",
       "      <td>1.0</td>\n",
       "      <td>0</td>\n",
       "    </tr>\n",
       "  </tbody>\n",
       "</table>\n",
       "</div>"
      ],
      "text/plain": [
       "    log_price  accommodates  bathrooms  cleaning_fee   latitude   longitude  \\\n",
       "5    4.442651           2.0        1.0           1.0  37.753164 -122.429526   \n",
       "6    4.418841           3.0        1.0           1.0  33.980454 -118.462821   \n",
       "7    4.787492           2.0        1.0           1.0  34.046737 -118.260439   \n",
       "8    4.787492           2.0        1.0           1.0  37.781128 -122.501095   \n",
       "9    3.583519           2.0        1.0           1.0  33.992563 -117.895997   \n",
       "10   4.605170           2.0        1.0           1.0  40.723883  -73.983880   \n",
       "\n",
       "    number_of_reviews  review_scores_rating  bedrooms  beds range  \n",
       "5                 3.0                 100.0       1.0   1.0     2  \n",
       "6                15.0                  97.0       1.0   1.0     1  \n",
       "7                 9.0                  93.0       1.0   1.0     0  \n",
       "8               159.0                  99.0       1.0   1.0     2  \n",
       "9                 2.0                  90.0       1.0   1.0     0  \n",
       "10               82.0                  93.0       1.0   1.0     0  "
      ]
     },
     "execution_count": 19,
     "metadata": {},
     "output_type": "execute_result"
    }
   ],
   "source": [
    "# new variable range created\n",
    "quantile_labels = [0, 1, 2]\n",
    "df2['range'] = pd.qcut(df2['review_scores_rating'], q=3, labels=False)\n",
    "df2['range'] = pd.qcut(df2['review_scores_rating'], q=3, labels=quantile_labels)\n",
    "\n",
    "df3 = df2.copy() \n",
    "df2.iloc[4:10]"
   ]
  },
  {
   "cell_type": "markdown",
   "id": "resistant-agency",
   "metadata": {},
   "source": [
    "# CLASSIFICATION ANALYSIS"
   ]
  },
  {
   "cell_type": "code",
   "execution_count": 20,
   "id": "broken-protocol",
   "metadata": {},
   "outputs": [
    {
     "data": {
      "text/plain": [
       "Index(['log_price', 'accommodates', 'bathrooms', 'cleaning_fee', 'latitude',\n",
       "       'longitude', 'number_of_reviews', 'review_scores_rating', 'bedrooms',\n",
       "       'beds'],\n",
       "      dtype='object')"
      ]
     },
     "execution_count": 20,
     "metadata": {},
     "output_type": "execute_result"
    }
   ],
   "source": [
    "df2.select_dtypes(include='number').columns"
   ]
  },
  {
   "cell_type": "code",
   "execution_count": 21,
   "id": "suitable-necessity",
   "metadata": {},
   "outputs": [],
   "source": [
    "#Separation of main variables for classification\n",
    "X = df2.drop(['range'], axis=1)\n",
    "y = df2[['range']]"
   ]
  },
  {
   "cell_type": "code",
   "execution_count": 22,
   "id": "prime-richardson",
   "metadata": {},
   "outputs": [],
   "source": [
    "# y formating for classification\n",
    "y = y.astype(np.uint8)"
   ]
  },
  {
   "cell_type": "code",
   "execution_count": 23,
   "id": "technical-field",
   "metadata": {},
   "outputs": [],
   "source": [
    "#Data split for algorithms\n",
    "X_train, X_test, y_train, y_test = X[:57389], X[57389:], y[:57389], y[57389:]"
   ]
  },
  {
   "cell_type": "markdown",
   "id": "historic-vertex",
   "metadata": {},
   "source": [
    "## PARAMETRIC: SGD CLASSIFIER - MULTICLASS\n",
    "Aplication of parametric classifier, due to the distribution it's not the most accurate model for this dataset\n",
    "##### This is not the best model for this dataset as the distribution is not normal, a non parametric is recommended"
   ]
  },
  {
   "cell_type": "code",
   "execution_count": 24,
   "id": "golden-management",
   "metadata": {},
   "outputs": [
    {
     "data": {
      "text/plain": [
       "SGDClassifier(random_state=24)"
      ]
     },
     "execution_count": 24,
     "metadata": {},
     "output_type": "execute_result"
    }
   ],
   "source": [
    "from sklearn.linear_model import SGDClassifier\n",
    "\n",
    "sgd_clf = SGDClassifier(max_iter=1000, tol=1e-3, random_state=24)\n",
    "sgd_clf.fit(X_train, y_train.values.ravel())"
   ]
  },
  {
   "cell_type": "code",
   "execution_count": 25,
   "id": "fixed-destination",
   "metadata": {},
   "outputs": [
    {
     "data": {
      "text/plain": [
       "array([0.88046698, 0.73444851, 0.83446593, 0.81738979, 0.83777662,\n",
       "       0.88795957, 0.76598711, 0.69175815, 0.80310159, 0.91774137])"
      ]
     },
     "execution_count": 25,
     "metadata": {},
     "output_type": "execute_result"
    }
   ],
   "source": [
    "from sklearn.model_selection import cross_val_score\n",
    "cross_val_score(sgd_clf, X_train, y_train.values.ravel(), cv=10, scoring=\"accuracy\")"
   ]
  },
  {
   "cell_type": "code",
   "execution_count": 26,
   "id": "equal-manhattan",
   "metadata": {},
   "outputs": [],
   "source": [
    "from sklearn.model_selection import cross_val_predict\n",
    "y_train_pred = cross_val_predict(sgd_clf, X_train, y_train.values.ravel(), cv=10)"
   ]
  },
  {
   "cell_type": "code",
   "execution_count": 27,
   "id": "general-repeat",
   "metadata": {},
   "outputs": [
    {
     "data": {
      "text/plain": [
       "array([[18828,   842,     0],\n",
       "       [ 3117, 11463,  4293],\n",
       "       [    0,  2244, 16602]], dtype=int64)"
      ]
     },
     "execution_count": 27,
     "metadata": {},
     "output_type": "execute_result"
    }
   ],
   "source": [
    "from sklearn.metrics import confusion_matrix\n",
    "confusion_matrix(y_train, y_train_pred)"
   ]
  },
  {
   "cell_type": "code",
   "execution_count": 28,
   "id": "searching-bicycle",
   "metadata": {},
   "outputs": [
    {
     "data": {
      "image/png": "[encoded data removed]",
      "text/plain": [
       "<Figure size 432x288 with 2 Axes>"
      ]
     },
     "metadata": {
      "needs_background": "light"
     },
     "output_type": "display_data"
    }
   ],
   "source": [
    "from sklearn.metrics import plot_confusion_matrix\n",
    "plot_confusion_matrix(sgd_clf, X_train, y_train, cmap='plasma')\n",
    "plt.show()"
   ]
  },
  {
   "cell_type": "markdown",
   "id": "former-ceiling",
   "metadata": {},
   "source": [
    "## NON-PARAMETRIC: KNN MULTILABEL CLASSIFICATION\n",
    "The best model for this type of data where non parametric models"
   ]
  },
  {
   "cell_type": "code",
   "execution_count": 29,
   "id": "basic-force",
   "metadata": {},
   "outputs": [],
   "source": [
    "from sklearn.model_selection import train_test_split\n",
    "X_train, X_test, y_train, y_test = train_test_split(X, y, test_size=0.3, random_state=30)"
   ]
  },
  {
   "cell_type": "code",
   "execution_count": 30,
   "id": "congressional-livestock",
   "metadata": {},
   "outputs": [],
   "source": [
    "from sklearn.neighbors import KNeighborsClassifier\n",
    "\n",
    "knn = KNeighborsClassifier(n_neighbors=18)\n",
    "knn.fit(X_train, y_train.values.ravel())\n",
    "y_pred = knn.predict(X_test)"
   ]
  },
  {
   "cell_type": "code",
   "execution_count": 31,
   "id": "boolean-moral",
   "metadata": {},
   "outputs": [
    {
     "data": {
      "text/plain": [
       "array([0.96167247, 0.96839223, 0.96489918, 0.95817774, 0.96390341,\n",
       "       0.9596714 , 0.96016928, 0.96240976, 0.96066716, 0.96440129])"
      ]
     },
     "execution_count": 31,
     "metadata": {},
     "output_type": "execute_result"
    }
   ],
   "source": [
    "from sklearn.model_selection import cross_val_score\n",
    "cross_val_score(knn, X_train, y_train.values.ravel(), cv=10, scoring=\"accuracy\")"
   ]
  },
  {
   "cell_type": "code",
   "execution_count": 32,
   "id": "massive-assessment",
   "metadata": {},
   "outputs": [
    {
     "data": {
      "image/png": "[encoded data removed]",
      "text/plain": [
       "<Figure size 432x288 with 2 Axes>"
      ]
     },
     "metadata": {
      "needs_background": "light"
     },
     "output_type": "display_data"
    }
   ],
   "source": [
    "from sklearn.metrics import plot_confusion_matrix\n",
    "plot_confusion_matrix(knn, X_train, y_train, cmap='plasma')\n",
    "plt.show()"
   ]
  },
  {
   "cell_type": "code",
   "execution_count": 33,
   "id": "little-civilian",
   "metadata": {},
   "outputs": [
    {
     "name": "stdout",
     "output_type": "stream",
     "text": [
      "              precision    recall  f1-score   support\n",
      "\n",
      "           0      0.992     0.965     0.978      5899\n",
      "           1      0.907     0.988     0.945      5637\n",
      "           2      0.996     0.936     0.965      5681\n",
      "\n",
      "    accuracy                          0.963     17217\n",
      "   macro avg      0.965     0.963     0.963     17217\n",
      "weighted avg      0.965     0.963     0.963     17217\n",
      "\n"
     ]
    }
   ],
   "source": [
    "#Statistics for model validation\n",
    "from sklearn import metrics\n",
    "print(metrics.classification_report(y_test, y_pred, digits = 3))"
   ]
  },
  {
   "cell_type": "markdown",
   "id": "diagnostic-citizenship",
   "metadata": {},
   "source": [
    "## NON-PARAMETRIC: RANDOM FOREST CLASSIFICATION"
   ]
  },
  {
   "cell_type": "code",
   "execution_count": 34,
   "id": "lovely-charter",
   "metadata": {},
   "outputs": [],
   "source": [
    "from sklearn.ensemble import RandomForestClassifier\n",
    "\n",
    "X_train, X_test, y_train, y_test = train_test_split(X, y, test_size = 0.40, random_state = 42)\n",
    "forest_clf = RandomForestClassifier(n_estimators=100, max_depth=2, random_state=25)\n",
    "forest_clf.fit(X_train, y_train.values.ravel())\n",
    "y_pred = forest_clf.predict(X_test)\n"
   ]
  },
  {
   "cell_type": "code",
   "execution_count": 35,
   "id": "polyphonic-yacht",
   "metadata": {},
   "outputs": [
    {
     "data": {
      "text/plain": [
       "array([0.89924506, 0.90505226, 0.90737515, 0.88585536, 0.89689225,\n",
       "       0.90880046, 0.89079291, 0.89573047, 0.88556491, 0.89427825])"
      ]
     },
     "execution_count": 35,
     "metadata": {},
     "output_type": "execute_result"
    }
   ],
   "source": [
    "from sklearn.model_selection import cross_val_score\n",
    "cross_val_score(forest_clf, X_train, y_train.values.ravel(), cv=10, scoring=\"accuracy\")"
   ]
  },
  {
   "cell_type": "code",
   "execution_count": 36,
   "id": "painful-final",
   "metadata": {},
   "outputs": [
    {
     "data": {
      "image/png": "[encoded data removed]",
      "text/plain": [
       "<Figure size 432x288 with 2 Axes>"
      ]
     },
     "metadata": {
      "needs_background": "light"
     },
     "output_type": "display_data"
    }
   ],
   "source": [
    "from sklearn.metrics import plot_confusion_matrix\n",
    "plot_confusion_matrix(forest_clf, X_train, y_train, cmap='plasma')\n",
    "plt.show()"
   ]
  },
  {
   "cell_type": "code",
   "execution_count": 37,
   "id": "historical-monkey",
   "metadata": {},
   "outputs": [
    {
     "name": "stdout",
     "output_type": "stream",
     "text": [
      "              precision    recall  f1-score   support\n",
      "\n",
      "           0      1.000     1.000     1.000      7765\n",
      "           1      0.764     0.965     0.853      7593\n",
      "           2      0.953     0.701     0.808      7598\n",
      "\n",
      "    accuracy                          0.890     22956\n",
      "   macro avg      0.905     0.889     0.887     22956\n",
      "weighted avg      0.906     0.890     0.888     22956\n",
      "\n"
     ]
    }
   ],
   "source": [
    "#Statistics for model validation\n",
    "from sklearn import metrics\n",
    "print(metrics.classification_report(y_test, y_pred, digits = 3))"
   ]
  },
  {
   "cell_type": "code",
   "execution_count": 38,
   "id": "established-wisdom",
   "metadata": {},
   "outputs": [
    {
     "data": {
      "text/plain": [
       "7    0.634583\n",
       "6    0.259093\n",
       "5    0.030439\n",
       "0    0.022275\n",
       "4    0.018224\n",
       "1    0.014647\n",
       "3    0.012903\n",
       "9    0.007771\n",
       "2    0.000066\n",
       "8    0.000000\n",
       "dtype: float64"
      ]
     },
     "execution_count": 38,
     "metadata": {},
     "output_type": "execute_result"
    }
   ],
   "source": [
    "#Variable importance in model\n",
    "feature_imp = pd.Series(forest_clf.feature_importances_).sort_values(ascending=False)\n",
    "feature_imp"
   ]
  },
  {
   "cell_type": "markdown",
   "id": "included-portuguese",
   "metadata": {},
   "source": [
    "Given the results and numbers of variables, the most reliable ones are number of reviews (0.635) and bedrooms (0.259)."
   ]
  },
  {
   "cell_type": "markdown",
   "id": "urban-seven",
   "metadata": {},
   "source": [
    "# STATISTICAL TESTS\n",
    "The dataset was analized based on the normality"
   ]
  },
  {
   "cell_type": "markdown",
   "id": "average-psychology",
   "metadata": {},
   "source": [
    "### Histogram"
   ]
  },
  {
   "cell_type": "code",
   "execution_count": 39,
   "id": "applicable-cheese",
   "metadata": {},
   "outputs": [
    {
     "name": "stderr",
     "output_type": "stream",
     "text": [
      "c:\\users\\maria\\desktop\\mlm_2021\\lib\\site-packages\\seaborn\\distributions.py:2557: FutureWarning: `distplot` is a deprecated function and will be removed in a future version. Please adapt your code to use either `displot` (a figure-level function with similar flexibility) or `histplot` (an axes-level function for histograms).\n",
      "  warnings.warn(msg, FutureWarning)\n"
     ]
    },
    {
     "data": {
      "image/png": "[encoded data removed]",
      "text/plain": [
       "<Figure size 432x288 with 1 Axes>"
      ]
     },
     "metadata": {
      "needs_background": "light"
     },
     "output_type": "display_data"
    }
   ],
   "source": [
    "normalidad = sns.distplot(df2['review_scores_rating'])"
   ]
  },
  {
   "cell_type": "markdown",
   "id": "given-gallery",
   "metadata": {},
   "source": [
    "### Q-Q Plot"
   ]
  },
  {
   "cell_type": "code",
   "execution_count": 40,
   "id": "sharp-inquiry",
   "metadata": {},
   "outputs": [
    {
     "data": {
      "image/png": "[encoded data removed]",
      "text/plain": [
       "<Figure size 432x288 with 1 Axes>"
      ]
     },
     "metadata": {
      "needs_background": "light"
     },
     "output_type": "display_data"
    }
   ],
   "source": [
    "_ = stats.probplot(df2['review_scores_rating'], plot=sns.mpl.pyplot)"
   ]
  },
  {
   "cell_type": "markdown",
   "id": "blond-boards",
   "metadata": {},
   "source": [
    "### Shapiro-Wilk test"
   ]
  },
  {
   "cell_type": "code",
   "execution_count": 41,
   "id": "complicated-arlington",
   "metadata": {},
   "outputs": [
    {
     "name": "stdout",
     "output_type": "stream",
     "text": [
      "Statistics=0.701, p=0.00000\n",
      "Does not seem to be normal\n"
     ]
    },
    {
     "name": "stderr",
     "output_type": "stream",
     "text": [
      "c:\\users\\maria\\desktop\\mlm_2021\\lib\\site-packages\\scipy\\stats\\morestats.py:1681: UserWarning: p-value may not be accurate for N > 5000.\n",
      "  warnings.warn(\"p-value may not be accurate for N > 5000.\")\n"
     ]
    }
   ],
   "source": [
    "from scipy.stats import shapiro\n",
    "\n",
    "stat, p = shapiro(df2['review_scores_rating'])\n",
    "print('Statistics=%.3f, p=%.5f' % (stat, p))\n",
    "alpha = 0.05\n",
    "if p > alpha:\n",
    "    print('Seems to be normal')\n",
    "else:\n",
    "    print('Does not seem to be normal')"
   ]
  },
  {
   "cell_type": "markdown",
   "id": "homeless-child",
   "metadata": {},
   "source": [
    "### D'Agostino's K^2 test"
   ]
  },
  {
   "cell_type": "code",
   "execution_count": 42,
   "id": "isolated-leader",
   "metadata": {},
   "outputs": [
    {
     "name": "stdout",
     "output_type": "stream",
     "text": [
      "Statistics=42838.357, p=0.000\n",
      "Does not seem to be normal\n"
     ]
    }
   ],
   "source": [
    "from scipy.stats import normaltest\n",
    "\n",
    "stat, p = normaltest(df2['review_scores_rating'])\n",
    "print('Statistics=%.3f, p=%.3f' % (stat, p))\n",
    "alpha = 0.05\n",
    "if p > alpha:\n",
    "    print('Seems to be normal')\n",
    "else:\n",
    "    print('Does not seem to be normal')"
   ]
  },
  {
   "cell_type": "markdown",
   "id": "requested-liechtenstein",
   "metadata": {},
   "source": [
    "### Anderson-Darling test"
   ]
  },
  {
   "cell_type": "code",
   "execution_count": 43,
   "id": "binary-duplicate",
   "metadata": {},
   "outputs": [
    {
     "name": "stdout",
     "output_type": "stream",
     "text": [
      "Statistic: 3633.380\n",
      "Alpha = 15.000: 0.576, Does not seem to be normal\n",
      "Alpha = 10.000: 0.656, Does not seem to be normal\n",
      "Alpha = 5.000: 0.787, Does not seem to be normal\n",
      "Alpha = 2.500: 0.918, Does not seem to be normal\n",
      "Alpha = 1.000: 1.092, Does not seem to be normal\n"
     ]
    }
   ],
   "source": [
    "from scipy.stats import anderson\n",
    "\n",
    "result = anderson(df2['review_scores_rating'])\n",
    "print('Statistic: %.3f' % result.statistic)\n",
    "p = 0\n",
    "for i in range(len(result.critical_values)):\n",
    "    sl, cv = result.significance_level[i], result.critical_values[i]\n",
    "    if result.statistic < result.critical_values[i]:\n",
    "        print('%.3f: %.3f, Seems to be normal' % (sl, cv))\n",
    "    else:\n",
    "        print('Alpha = %.3f: %.3f, Does not seem to be normal' % (sl, cv))"
   ]
  },
  {
   "cell_type": "markdown",
   "id": "rural-exception",
   "metadata": {},
   "source": [
    "## EXPLORATORY VISUALIZATIONS\n",
    "Data behavior for variable understanding"
   ]
  },
  {
   "cell_type": "markdown",
   "id": "legal-european",
   "metadata": {},
   "source": [
    "### Correlation"
   ]
  },
  {
   "cell_type": "code",
   "execution_count": 44,
   "id": "tough-plymouth",
   "metadata": {},
   "outputs": [
    {
     "data": {
      "image/png": "[encoded data removed]",
      "text/plain": [
       "<Figure size 432x288 with 2 Axes>"
      ]
     },
     "metadata": {
      "needs_background": "light"
     },
     "output_type": "display_data"
    }
   ],
   "source": [
    "# mapa de correlacion entre las variables numericas\n",
    "ax = sns.heatmap(df2.corr(),vmin=-1,vmax=1)"
   ]
  },
  {
   "cell_type": "markdown",
   "id": "amino-sandwich",
   "metadata": {},
   "source": [
    "### Boxplot"
   ]
  },
  {
   "cell_type": "code",
   "execution_count": 45,
   "id": "behind-north",
   "metadata": {},
   "outputs": [
    {
     "data": {
      "image/png": "[encoded data removed]",
      "text/plain": [
       "<Figure size 432x288 with 1 Axes>"
      ]
     },
     "metadata": {
      "needs_background": "light"
     },
     "output_type": "display_data"
    }
   ],
   "source": [
    "ax = sns.boxplot(x=df2[\"review_scores_rating\"])"
   ]
  },
  {
   "cell_type": "markdown",
   "id": "explicit-right",
   "metadata": {},
   "source": [
    "### Factorplot"
   ]
  },
  {
   "cell_type": "code",
   "execution_count": 46,
   "id": "supreme-external",
   "metadata": {},
   "outputs": [
    {
     "name": "stderr",
     "output_type": "stream",
     "text": [
      "c:\\users\\maria\\desktop\\mlm_2021\\lib\\site-packages\\seaborn\\categorical.py:3714: UserWarning: The `factorplot` function has been renamed to `catplot`. The original name will be removed in a future release. Please update your code. Note that the default `kind` in `factorplot` (`'point'`) has changed `'strip'` in `catplot`.\n",
      "  warnings.warn(msg)\n"
     ]
    },
    {
     "data": {
      "text/plain": [
       "<seaborn.axisgrid.FacetGrid at 0x521a030>"
      ]
     },
     "execution_count": 46,
     "metadata": {},
     "output_type": "execute_result"
    },
    {
     "data": {
      "image/png": "[encoded data removed]",
      "text/plain": [
       "<Figure size 360x360 with 1 Axes>"
      ]
     },
     "metadata": {
      "needs_background": "light"
     },
     "output_type": "display_data"
    }
   ],
   "source": [
    "sns.factorplot(x ='range', y = 'bedrooms', data = df3) "
   ]
  },
  {
   "cell_type": "code",
   "execution_count": 47,
   "id": "current-motel",
   "metadata": {},
   "outputs": [
    {
     "name": "stderr",
     "output_type": "stream",
     "text": [
      "c:\\users\\maria\\desktop\\mlm_2021\\lib\\site-packages\\seaborn\\categorical.py:3714: UserWarning: The `factorplot` function has been renamed to `catplot`. The original name will be removed in a future release. Please update your code. Note that the default `kind` in `factorplot` (`'point'`) has changed `'strip'` in `catplot`.\n",
      "  warnings.warn(msg)\n"
     ]
    },
    {
     "data": {
      "text/plain": [
       "<seaborn.axisgrid.FacetGrid at 0x521ad10>"
      ]
     },
     "execution_count": 47,
     "metadata": {},
     "output_type": "execute_result"
    },
    {
     "data": {
      "image/png": "[encoded data removed]",
      "text/plain": [
       "<Figure size 360x360 with 1 Axes>"
      ]
     },
     "metadata": {
      "needs_background": "light"
     },
     "output_type": "display_data"
    }
   ],
   "source": [
    "sns.factorplot(x ='range', y = 'number_of_reviews', data = df3) "
   ]
  }
 ],
 "metadata": {
  "kernelspec": {
   "display_name": "Python 3",
   "language": "python",
   "name": "python3"
  },
  "language_info": {
   "codemirror_mode": {
    "name": "ipython",
    "version": 3
   },
   "file_extension": ".py",
   "mimetype": "text/x-python",
   "name": "python",
   "nbconvert_exporter": "python",
   "pygments_lexer": "ipython3",
   "version": "3.7.4"
  }
 },
 "nbformat": 4,
 "nbformat_minor": 5
}
